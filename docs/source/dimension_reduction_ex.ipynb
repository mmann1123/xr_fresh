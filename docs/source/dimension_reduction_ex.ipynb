{
 "cells": [
  {
   "cell_type": "markdown",
   "id": "ff63ebe2",
   "metadata": {},
   "source": [
    "## Dimensionality Reduction\n",
    "\n",
    "Dimensionality reduction is a technique used in machine learning and statistics to reduce the number of features or variables in a dataset while preserving its essential characteristics. This is particularly useful when dealing with high-dimensional data, as it can help improve model performance, reduce overfitting, and make data visualization easier.\n",
    "\n",
    "First we will import the required libraries and read in some precipitation imagery."
   ]
  },
  {
   "cell_type": "code",
   "execution_count": 1,
   "id": "1b432d57",
   "metadata": {},
   "outputs": [
    {
     "name": "stderr",
     "output_type": "stream",
     "text": [
      "/home/mmann1123/miniconda3/envs/xr_fresh_update/lib/python3.9/site-packages/tqdm/auto.py:21: TqdmWarning: IProgress not found. Please update jupyter and ipywidgets. See https://ipywidgets.readthedocs.io/en/stable/user_install.html\n",
      "  from .autonotebook import tqdm as notebook_tqdm\n"
     ]
    },
    {
     "data": {
      "application/vnd.microsoft.datawrangler.viewer.v0+json": {
       "columns": [
        {
         "name": "index",
         "rawType": "int64",
         "type": "integer"
        },
        {
         "name": "file",
         "rawType": "object",
         "type": "string"
        }
       ],
       "conversionMethod": "pd.DataFrame",
       "ref": "8a875a39-63d0-42bf-bdb5-409fb1f78a37",
       "rows": [
        [
         "0",
         "evi_20160101.tif"
        ],
        [
         "1",
         "evi_20160401.tif"
        ],
        [
         "2",
         "evi_20160517.tif"
        ],
        [
         "3",
         "evi_20170203.tif"
        ]
       ],
       "shape": {
        "columns": 1,
        "rows": 4
       }
      },
      "text/html": [
       "<div>\n",
       "<style scoped>\n",
       "    .dataframe tbody tr th:only-of-type {\n",
       "        vertical-align: middle;\n",
       "    }\n",
       "\n",
       "    .dataframe tbody tr th {\n",
       "        vertical-align: top;\n",
       "    }\n",
       "\n",
       "    .dataframe thead th {\n",
       "        text-align: right;\n",
       "    }\n",
       "</style>\n",
       "<table border=\"1\" class=\"dataframe\">\n",
       "  <thead>\n",
       "    <tr style=\"text-align: right;\">\n",
       "      <th></th>\n",
       "      <th>file</th>\n",
       "    </tr>\n",
       "  </thead>\n",
       "  <tbody>\n",
       "    <tr>\n",
       "      <th>0</th>\n",
       "      <td>evi_20160101.tif</td>\n",
       "    </tr>\n",
       "    <tr>\n",
       "      <th>1</th>\n",
       "      <td>evi_20160401.tif</td>\n",
       "    </tr>\n",
       "    <tr>\n",
       "      <th>2</th>\n",
       "      <td>evi_20160517.tif</td>\n",
       "    </tr>\n",
       "    <tr>\n",
       "      <th>3</th>\n",
       "      <td>evi_20170203.tif</td>\n",
       "    </tr>\n",
       "  </tbody>\n",
       "</table>\n",
       "</div>"
      ],
      "text/plain": [
       "               file\n",
       "0  evi_20160101.tif\n",
       "1  evi_20160401.tif\n",
       "2  evi_20160517.tif\n",
       "3  evi_20170203.tif"
      ]
     },
     "execution_count": 1,
     "metadata": {},
     "output_type": "execute_result"
    }
   ],
   "source": [
    "import geowombat as gw\n",
    "import os\n",
    "import matplotlib.pyplot as plt\n",
    "import pandas as pd\n",
    "from glob import glob\n",
    "import ray\n",
    "import pandas as pd\n",
    "\n",
    "\n",
    "os.chdir(\"../../xr_fresh/data/\")\n",
    "\n",
    "\n",
    "file_glob = f\"evi_*tif\"\n",
    "files = sorted(glob(file_glob))\n",
    "\n",
    "# print dates and files in a table\n",
    "pd.DataFrame({  \"file\": files})"
   ]
  },
  {
   "cell_type": "markdown",
   "id": "a91cb2bd",
   "metadata": {},
   "source": [
    "Let's take a look at the imput data"
   ]
  },
  {
   "cell_type": "code",
   "execution_count": null,
   "id": "e92bdd42",
   "metadata": {},
   "outputs": [],
   "source": [
    "with gw.open(files,   nodata=-9999 ) as ds:\n",
    "    ds = ds.gw.mask_nodata()\n",
    "    ds.plot(col=\"time\", col_wrap=4, cmap=\"viridis\", robust=True)\n",
    "    display(ds)"
   ]
  },
  {
   "cell_type": "markdown",
   "id": "d6ec33b1",
   "metadata": {},
   "source": [
    "Now let's create 3 components from the data "
   ]
  },
  {
   "cell_type": "code",
   "execution_count": null,
   "id": "fec50d12",
   "metadata": {},
   "outputs": [],
   "source": [
    "import xr_fresh.dimension_reduction  # This registers the accessor\n",
    "cpus = 8\n",
    "with ray.init(num_cpus=cpus) as rays:\n",
    "\n",
    "    # Example usage\n",
    "    with gw.open(\n",
    "        files,\n",
    "        stack_dim=\"band\",\n",
    "        nodata=-9999\n",
    "    ) as src:\n",
    "        src = src.gw.mask_nodata()\n",
    "        # get 3 k principal components - base zero counting\n",
    "        transformed_dataarray = src.gw_ext.k_pca(\n",
    "            gamma=15, n_components=3, n_workers=cpus, chunk_size=512\n",
    "        )\n",
    "        \n",
    "        # plot each with a seperate scale \n",
    "        for i, comp in enumerate(transformed_dataarray.component.values):\n",
    "            transformed_dataarray.sel(component=comp).plot.imshow(\n",
    "                figsize=(8, 6), robust=True, cbar_kwargs={'label': f'Component {i+1}'}\n",
    "            )\n",
    "            plt.title(f'Principal Component {i+1}')\n",
    "            plt.show()"
   ]
  },
  {
   "cell_type": "markdown",
   "id": "ac852a77",
   "metadata": {},
   "source": [
    "Save your outputs "
   ]
  },
  {
   "cell_type": "code",
   "execution_count": null,
   "id": "e94213a8",
   "metadata": {},
   "outputs": [],
   "source": [
    "transformed_dataarray.gw.save(\n",
    "    \"test.tif\",\n",
    "    overwrite=True,\n",
    ")"
   ]
  }
 ],
 "metadata": {
  "kernelspec": {
   "display_name": "xr_fresh_update",
   "language": "python",
   "name": "python3"
  },
  "language_info": {
   "codemirror_mode": {
    "name": "ipython",
    "version": 3
   },
   "file_extension": ".py",
   "mimetype": "text/x-python",
   "name": "python",
   "nbconvert_exporter": "python",
   "pygments_lexer": "ipython3",
   "version": "3.9.16"
  }
 },
 "nbformat": 4,
 "nbformat_minor": 5
}

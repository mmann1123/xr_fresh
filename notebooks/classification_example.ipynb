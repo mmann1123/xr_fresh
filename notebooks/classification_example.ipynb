{
 "cells": [
  {
   "cell_type": "markdown",
   "metadata": {},
   "source": [
    "# Classification of raster timeseries with xr_fresh, geowombat and sklearn"
   ]
  },
  {
   "cell_type": "code",
   "execution_count": 1,
   "metadata": {},
   "outputs": [
    {
     "name": "stderr",
     "output_type": "stream",
     "text": [
      "/home/mmann1123/miniconda3/envs/xr_fresh_update/lib/python3.9/site-packages/tqdm/auto.py:21: TqdmWarning: IProgress not found. Please update jupyter and ipywidgets. See https://ipywidgets.readthedocs.io/en/stable/user_install.html\n",
      "  from .autonotebook import tqdm as notebook_tqdm\n"
     ]
    },
    {
     "data": {
      "text/html": [
       "<div>\n",
       "<style scoped>\n",
       "    .dataframe tbody tr th:only-of-type {\n",
       "        vertical-align: middle;\n",
       "    }\n",
       "\n",
       "    .dataframe tbody tr th {\n",
       "        vertical-align: top;\n",
       "    }\n",
       "\n",
       "    .dataframe thead th {\n",
       "        text-align: right;\n",
       "    }\n",
       "</style>\n",
       "<table border=\"1\" class=\"dataframe\">\n",
       "  <thead>\n",
       "    <tr style=\"text-align: right;\">\n",
       "      <th></th>\n",
       "      <th>date</th>\n",
       "      <th>file</th>\n",
       "    </tr>\n",
       "  </thead>\n",
       "  <tbody>\n",
       "    <tr>\n",
       "      <th>0</th>\n",
       "      <td>2018-01-01</td>\n",
       "      <td>pdsi_201801_4500m.tif</td>\n",
       "    </tr>\n",
       "    <tr>\n",
       "      <th>1</th>\n",
       "      <td>2018-02-01</td>\n",
       "      <td>pdsi_201802_4500m.tif</td>\n",
       "    </tr>\n",
       "    <tr>\n",
       "      <th>2</th>\n",
       "      <td>2018-03-01</td>\n",
       "      <td>pdsi_201803_4500m.tif</td>\n",
       "    </tr>\n",
       "    <tr>\n",
       "      <th>3</th>\n",
       "      <td>2018-04-01</td>\n",
       "      <td>pdsi_201804_4500m.tif</td>\n",
       "    </tr>\n",
       "    <tr>\n",
       "      <th>4</th>\n",
       "      <td>2018-05-01</td>\n",
       "      <td>pdsi_201805_4500m.tif</td>\n",
       "    </tr>\n",
       "    <tr>\n",
       "      <th>5</th>\n",
       "      <td>2018-06-01</td>\n",
       "      <td>pdsi_201806_4500m.tif</td>\n",
       "    </tr>\n",
       "    <tr>\n",
       "      <th>6</th>\n",
       "      <td>2018-07-01</td>\n",
       "      <td>pdsi_201807_4500m.tif</td>\n",
       "    </tr>\n",
       "    <tr>\n",
       "      <th>7</th>\n",
       "      <td>2018-08-01</td>\n",
       "      <td>pdsi_201808_4500m.tif</td>\n",
       "    </tr>\n",
       "    <tr>\n",
       "      <th>8</th>\n",
       "      <td>2018-09-01</td>\n",
       "      <td>pdsi_201809_4500m.tif</td>\n",
       "    </tr>\n",
       "    <tr>\n",
       "      <th>9</th>\n",
       "      <td>2018-10-01</td>\n",
       "      <td>pdsi_201810_4500m.tif</td>\n",
       "    </tr>\n",
       "    <tr>\n",
       "      <th>10</th>\n",
       "      <td>2018-11-01</td>\n",
       "      <td>pdsi_201811_4500m.tif</td>\n",
       "    </tr>\n",
       "    <tr>\n",
       "      <th>11</th>\n",
       "      <td>2018-12-01</td>\n",
       "      <td>pdsi_201812_4500m.tif</td>\n",
       "    </tr>\n",
       "  </tbody>\n",
       "</table>\n",
       "</div>"
      ],
      "text/plain": [
       "         date                   file\n",
       "0  2018-01-01  pdsi_201801_4500m.tif\n",
       "1  2018-02-01  pdsi_201802_4500m.tif\n",
       "2  2018-03-01  pdsi_201803_4500m.tif\n",
       "3  2018-04-01  pdsi_201804_4500m.tif\n",
       "4  2018-05-01  pdsi_201805_4500m.tif\n",
       "5  2018-06-01  pdsi_201806_4500m.tif\n",
       "6  2018-07-01  pdsi_201807_4500m.tif\n",
       "7  2018-08-01  pdsi_201808_4500m.tif\n",
       "8  2018-09-01  pdsi_201809_4500m.tif\n",
       "9  2018-10-01  pdsi_201810_4500m.tif\n",
       "10 2018-11-01  pdsi_201811_4500m.tif\n",
       "11 2018-12-01  pdsi_201812_4500m.tif"
      ]
     },
     "execution_count": 1,
     "metadata": {},
     "output_type": "execute_result"
    }
   ],
   "source": [
    "import geowombat as gw\n",
    "import os\n",
    "from datetime import datetime\n",
    "import matplotlib.pyplot as plt\n",
    "import pandas as pd\n",
    "from glob import glob\n",
    "import tempfile\n",
    "from pathlib import Path\n",
    "from xr_fresh.feature_calculator_series import (\n",
    "    minimum,\n",
    "    abs_energy,\n",
    "    mean_abs_change,\n",
    "    ratio_beyond_r_sigma,\n",
    "    symmetry_looking,\n",
    "    sum,\n",
    "    quantile,\n",
    "    function_mapping,\n",
    ")\n",
    "\n",
    "# make temp directory for outputs\n",
    "temp_dir = Path(tempfile.mkdtemp())\n",
    "# Set up error logging\n",
    "import logging\n",
    "\n",
    "# set up error logging\n",
    "logging.basicConfig(\n",
    "    filename=os.path.join(temp_dir, \"error_log.log\"),\n",
    "    level=logging.ERROR,\n",
    "    format=\"%(asctime)s:%(levelname)s:%(message)s\",\n",
    ")\n",
    "# Read in example data\n",
    "os.chdir(\"../xr_fresh/data/\")\n",
    "\n",
    "band_name = \"ppt\"  # used to rename outputs\n",
    "file_glob = f\"pdsi*tif\"\n",
    "strp_glob = f\"pdsi_%Y%m_4500m.tif\"\n",
    "\n",
    "dates = sorted(\n",
    "    datetime.strptime(string, strp_glob) for string in sorted(glob(file_glob))\n",
    ")\n",
    "files = sorted(glob(file_glob))\n",
    "\n",
    "# print dates and files in a table\n",
    "pd.DataFrame({\"date\": dates, \"file\": files})"
   ]
  },
  {
   "cell_type": "code",
   "execution_count": 2,
   "metadata": {},
   "outputs": [
    {
     "name": "stdout",
     "output_type": "stream",
     "text": [
      "Instantiated minimum \n"
     ]
    },
    {
     "name": "stderr",
     "output_type": "stream",
     "text": [
      "100%|██████████| 4/4 [00:00<00:00, 85.48it/s]\n"
     ]
    },
    {
     "name": "stdout",
     "output_type": "stream",
     "text": [
      "Instantiated abs_energy \n"
     ]
    },
    {
     "name": "stderr",
     "output_type": "stream",
     "text": [
      "100%|██████████| 4/4 [00:00<00:00, 56.73it/s]\n"
     ]
    },
    {
     "name": "stdout",
     "output_type": "stream",
     "text": [
      "Instantiated mean_abs_change \n"
     ]
    },
    {
     "name": "stderr",
     "output_type": "stream",
     "text": [
      "100%|██████████| 4/4 [00:00<00:00, 37.20it/s]\n"
     ]
    },
    {
     "name": "stdout",
     "output_type": "stream",
     "text": [
      "Instantiated ratio_beyond_r_sigma with  {'r': 1}\n"
     ]
    },
    {
     "name": "stderr",
     "output_type": "stream",
     "text": [
      "100%|██████████| 4/4 [00:00<00:00, 10.72it/s]\n"
     ]
    },
    {
     "name": "stdout",
     "output_type": "stream",
     "text": [
      "Instantiated ratio_beyond_r_sigma with  {'r': 2}\n"
     ]
    },
    {
     "name": "stderr",
     "output_type": "stream",
     "text": [
      "100%|██████████| 4/4 [00:00<00:00, 6978.88it/s]\n"
     ]
    },
    {
     "name": "stdout",
     "output_type": "stream",
     "text": [
      "Instantiated ratio_beyond_r_sigma with  {'r': 3}\n"
     ]
    },
    {
     "name": "stderr",
     "output_type": "stream",
     "text": [
      "100%|██████████| 4/4 [00:00<00:00, 6246.17it/s]\n"
     ]
    },
    {
     "name": "stdout",
     "output_type": "stream",
     "text": [
      "Instantiated symmetry_looking \n"
     ]
    },
    {
     "name": "stderr",
     "output_type": "stream",
     "text": [
      "100%|██████████| 4/4 [00:00<00:00, 12.77it/s]\n"
     ]
    },
    {
     "name": "stdout",
     "output_type": "stream",
     "text": [
      "Instantiated sum \n"
     ]
    },
    {
     "name": "stderr",
     "output_type": "stream",
     "text": [
      "100%|██████████| 4/4 [00:00<00:00, 6649.71it/s]\n"
     ]
    },
    {
     "name": "stdout",
     "output_type": "stream",
     "text": [
      "Instantiated quantile with  {'q': 0.05}\n"
     ]
    },
    {
     "name": "stderr",
     "output_type": "stream",
     "text": [
      "100%|██████████| 4/4 [00:00<00:00, 65.80it/s]\n"
     ]
    },
    {
     "name": "stdout",
     "output_type": "stream",
     "text": [
      "Instantiated quantile with  {'q': 0.95}\n"
     ]
    },
    {
     "name": "stderr",
     "output_type": "stream",
     "text": [
      "100%|██████████| 4/4 [00:00<00:00, 6745.97it/s]\n"
     ]
    }
   ],
   "source": [
    "\n",
    "\n",
    "\n",
    "# create list of desired series\n",
    "feature_list = {\n",
    "    \"minimum\": [{}],\n",
    "    \"abs_energy\": [{}],\n",
    "    \"mean_abs_change\": [{}],\n",
    "    \"ratio_beyond_r_sigma\": [{\"r\": 1}, {\"r\": 2}, {\"r\": 3}],\n",
    "    \"symmetry_looking\": [{}],\n",
    "    \"sum\": [{}],\n",
    "    \"quantile\": [{\"q\": 0.05}, {\"q\": 0.95}],\n",
    "}\n",
    "\n",
    "with gw.series(files,nodata=-9999, window_size=[256, 256]) as src:\n",
    "    # iterate across functions in feature list\n",
    "    for func_name, param_list in feature_list.items():\n",
    "        for params in param_list:\n",
    "\n",
    "            # instantiate function & get parameter\n",
    "            func_class = function_mapping.get(func_name)\n",
    "            if func_class:\n",
    "                func_instance = func_class(**params)  # Instantiate with parameters\n",
    "                if len(params) > 0:\n",
    "                    print(f\"Instantiated {func_name} with  {params}\")\n",
    "                else:\n",
    "                    print(f\"Instantiated {func_name} \")\n",
    "\n",
    "            # create output file name if parameters exist\n",
    "            if len(list(params.keys())) > 0:\n",
    "                key_names = list(params.keys())[0]\n",
    "                value_names = list(params.values())[0]\n",
    "                outfile = os.path.join(temp_dir,f\"{band_name}_{func_name}_{key_names}_{value_names}.tif\")\n",
    "                # avoid issue with all dates\n",
    "                if func_name in [\"doy_of_maximum\", \"doy_of_minimum\"]:\n",
    "                    outfile = os.path.join(temp_dir,f\"{band_name}_{func_name}_{key_names}.tif\")\n",
    "            else:\n",
    "                outfile = os.path.join(temp_dir,f\"{band_name}_{func_name}.tif\")\n",
    "\n",
    "            # extract features\n",
    "            try:\n",
    "                src.apply(\n",
    "                    func=func_instance,\n",
    "                    outfile=outfile,\n",
    "                    num_workers=12,\n",
    "                    processes=False,\n",
    "                    bands=1,\n",
    "                    kwargs={\n",
    "                        \"BIGTIFF\": \"YES\",\n",
    "                        \"compress\": \"LZW\",\n",
    "                    },  # add bigtif if files are large\n",
    "                )\n",
    "            except Exception as e:\n",
    "                logging.error(\n",
    "                    f\"Error extracting features from {band_name} {func_name}: {e}\"\n",
    "                )\n",
    "                continue"
   ]
  },
  {
   "cell_type": "code",
   "execution_count": 3,
   "metadata": {},
   "outputs": [
    {
     "data": {
      "text/html": [
       "<div>\n",
       "<style scoped>\n",
       "    .dataframe tbody tr th:only-of-type {\n",
       "        vertical-align: middle;\n",
       "    }\n",
       "\n",
       "    .dataframe tbody tr th {\n",
       "        vertical-align: top;\n",
       "    }\n",
       "\n",
       "    .dataframe thead th {\n",
       "        text-align: right;\n",
       "    }\n",
       "</style>\n",
       "<table border=\"1\" class=\"dataframe\">\n",
       "  <thead>\n",
       "    <tr style=\"text-align: right;\">\n",
       "      <th></th>\n",
       "      <th>feature</th>\n",
       "      <th>file</th>\n",
       "    </tr>\n",
       "  </thead>\n",
       "  <tbody>\n",
       "    <tr>\n",
       "      <th>0</th>\n",
       "      <td>ppt_abs_energy</td>\n",
       "      <td>/tmp/tmpp1cz7twv/ppt_abs_energy.tif</td>\n",
       "    </tr>\n",
       "    <tr>\n",
       "      <th>1</th>\n",
       "      <td>ppt_mean_abs_change</td>\n",
       "      <td>/tmp/tmpp1cz7twv/ppt_mean_abs_change.tif</td>\n",
       "    </tr>\n",
       "    <tr>\n",
       "      <th>2</th>\n",
       "      <td>ppt_minimum</td>\n",
       "      <td>/tmp/tmpp1cz7twv/ppt_minimum.tif</td>\n",
       "    </tr>\n",
       "    <tr>\n",
       "      <th>3</th>\n",
       "      <td>ppt_quantile_q_0</td>\n",
       "      <td>/tmp/tmpp1cz7twv/ppt_quantile_q_0.05.tif</td>\n",
       "    </tr>\n",
       "    <tr>\n",
       "      <th>4</th>\n",
       "      <td>ppt_quantile_q_0</td>\n",
       "      <td>/tmp/tmpp1cz7twv/ppt_quantile_q_0.95.tif</td>\n",
       "    </tr>\n",
       "    <tr>\n",
       "      <th>5</th>\n",
       "      <td>ppt_ratio_beyond_r_sigma_r_1</td>\n",
       "      <td>/tmp/tmpp1cz7twv/ppt_ratio_beyond_r_sigma_r_1.tif</td>\n",
       "    </tr>\n",
       "    <tr>\n",
       "      <th>6</th>\n",
       "      <td>ppt_ratio_beyond_r_sigma_r_2</td>\n",
       "      <td>/tmp/tmpp1cz7twv/ppt_ratio_beyond_r_sigma_r_2.tif</td>\n",
       "    </tr>\n",
       "    <tr>\n",
       "      <th>7</th>\n",
       "      <td>ppt_ratio_beyond_r_sigma_r_3</td>\n",
       "      <td>/tmp/tmpp1cz7twv/ppt_ratio_beyond_r_sigma_r_3.tif</td>\n",
       "    </tr>\n",
       "    <tr>\n",
       "      <th>8</th>\n",
       "      <td>ppt_sum</td>\n",
       "      <td>/tmp/tmpp1cz7twv/ppt_sum.tif</td>\n",
       "    </tr>\n",
       "    <tr>\n",
       "      <th>9</th>\n",
       "      <td>ppt_symmetry_looking</td>\n",
       "      <td>/tmp/tmpp1cz7twv/ppt_symmetry_looking.tif</td>\n",
       "    </tr>\n",
       "  </tbody>\n",
       "</table>\n",
       "</div>"
      ],
      "text/plain": [
       "                        feature   \n",
       "0                ppt_abs_energy  \\\n",
       "1           ppt_mean_abs_change   \n",
       "2                   ppt_minimum   \n",
       "3              ppt_quantile_q_0   \n",
       "4              ppt_quantile_q_0   \n",
       "5  ppt_ratio_beyond_r_sigma_r_1   \n",
       "6  ppt_ratio_beyond_r_sigma_r_2   \n",
       "7  ppt_ratio_beyond_r_sigma_r_3   \n",
       "8                       ppt_sum   \n",
       "9          ppt_symmetry_looking   \n",
       "\n",
       "                                                file  \n",
       "0                /tmp/tmpp1cz7twv/ppt_abs_energy.tif  \n",
       "1           /tmp/tmpp1cz7twv/ppt_mean_abs_change.tif  \n",
       "2                   /tmp/tmpp1cz7twv/ppt_minimum.tif  \n",
       "3           /tmp/tmpp1cz7twv/ppt_quantile_q_0.05.tif  \n",
       "4           /tmp/tmpp1cz7twv/ppt_quantile_q_0.95.tif  \n",
       "5  /tmp/tmpp1cz7twv/ppt_ratio_beyond_r_sigma_r_1.tif  \n",
       "6  /tmp/tmpp1cz7twv/ppt_ratio_beyond_r_sigma_r_2.tif  \n",
       "7  /tmp/tmpp1cz7twv/ppt_ratio_beyond_r_sigma_r_3.tif  \n",
       "8                       /tmp/tmpp1cz7twv/ppt_sum.tif  \n",
       "9          /tmp/tmpp1cz7twv/ppt_symmetry_looking.tif  "
      ]
     },
     "execution_count": 3,
     "metadata": {},
     "output_type": "execute_result"
    }
   ],
   "source": [
    "features = sorted(glob(os.path.join(temp_dir, \"*.tif\")))\n",
    "feature_names = [os.path.basename(f).split(\".\")[0] for f in features]\n",
    "\n",
    "pd.DataFrame({\"feature\": feature_names, \"file\": features})"
   ]
  },
  {
   "cell_type": "markdown",
   "metadata": {},
   "source": [
    "## Create a unsupervised classification of timeseries features "
   ]
  },
  {
   "cell_type": "markdown",
   "metadata": {},
   "source": [
    "Note: You will need to install some additional features for `geowombat` by running\n",
    "\n",
    "`mamba install geowombat-ml -c conda-forge`"
   ]
  },
  {
   "cell_type": "code",
   "execution_count": 7,
   "metadata": {},
   "outputs": [
    {
     "data": {
      "image/png": "[encoded data removed]",
      "text/plain": [
       "<Figure size 640x480 with 2 Axes>"
      ]
     },
     "metadata": {},
     "output_type": "display_data"
    }
   ],
   "source": [
    "from sklearn.cluster import KMeans\n",
    "from sklearn.pipeline import Pipeline\n",
    "from geowombat.ml import fit_predict\n",
    "from sklearn.impute import SimpleImputer  \n",
    "import numpy as np\n",
    "\n",
    "cl = Pipeline(\n",
    "    [\n",
    "        (\"remove_nan\", SimpleImputer(missing_values=np.nan, strategy=\"mean\")),\n",
    "        (\"clf\", KMeans(n_clusters=6, random_state=0)),\n",
    "    ]\n",
    ")\n",
    "\n",
    "# fit the pipeline and plot\n",
    "with gw.open(features, stack_dim=\"band\") as src:\n",
    "    y = fit_predict(src, cl)\n",
    "    y.plot(robust=True)"
   ]
  },
  {
   "cell_type": "code",
   "execution_count": null,
   "metadata": {},
   "outputs": [],
   "source": []
  }
 ],
 "metadata": {
  "kernelspec": {
   "display_name": "xr_fresh_update",
   "language": "python",
   "name": "python3"
  },
  "language_info": {
   "codemirror_mode": {
    "name": "ipython",
    "version": 3
   },
   "file_extension": ".py",
   "mimetype": "text/x-python",
   "name": "python",
   "nbconvert_exporter": "python",
   "pygments_lexer": "ipython3",
   "version": "3.9.16"
  }
 },
 "nbformat": 4,
 "nbformat_minor": 2
}

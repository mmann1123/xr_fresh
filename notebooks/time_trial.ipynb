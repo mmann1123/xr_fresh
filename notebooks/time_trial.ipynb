{
 "cells": [
  {
   "cell_type": "markdown",
   "id": "90b105a5",
   "metadata": {},
   "source": [
    "# xr_fresh vs ts_raster\n",
    "\n",
    "This notebook compares the performance of `xr_fresh` and `ts_raster` for processing large raster datasets. The goal is to evaluate which library is more efficient in terms of execution time and memory usage."
   ]
  },
  {
   "cell_type": "code",
   "execution_count": 1,
   "id": "80d8bb1e",
   "metadata": {},
   "outputs": [
    {
     "name": "stderr",
     "output_type": "stream",
     "text": [
      "/home/mmann1123/miniconda3/envs/ts-fresh/lib/python3.8/site-packages/osgeo/gdal.py:312: FutureWarning: Neither gdal.UseExceptions() nor gdal.DontUseExceptions() has been explicitly called. In GDAL 4.0, exceptions will be enabled by default.\n",
      "  warnings.warn(\n"
     ]
    },
    {
     "name": "stdout",
     "output_type": "stream",
     "text": [
      "df: ../xr_fresh/data/temperature/my_df.csv\n"
     ]
    },
    {
     "name": "stderr",
     "output_type": "stream",
     "text": [
      "Feature Extraction: 100%|██████████| 60/60 [02:25<00:00,  2.43s/it]\n"
     ]
    },
    {
     "name": "stdout",
     "output_type": "stream",
     "text": [
      "features:../xr_fresh/data/temperature_features/extracted_features.csv\n",
      "tif:../xr_fresh/data/temperature_features/extracted_features.tiff\n",
      "Execution time: 245.2262 seconds\n"
     ]
    }
   ],
   "source": [
    "import timeit\n",
    "\n",
    "import matplotlib.pyplot as plt\n",
    "import tsraster.prep as tr\n",
    "from tsraster.calculate import calculateFeatures\n",
    "\n",
    "start = timeit.default_timer()\n",
    "\n",
    "\n",
    "path = \"../xr_fresh/data/temperature/\"\n",
    "rasters = tr.image_to_series(path)\n",
    "\n",
    "\n",
    "fc_parameters = {\n",
    "    \"mean\": None,\n",
    "    \"maximum\": None,\n",
    "    \"minimum\": None,\n",
    "    \"quantile\": [{\"q\": 0.15}, {\"q\": 0.95}],\n",
    "}\n",
    "\n",
    "\n",
    "ts_features = calculateFeatures(path, parameters=fc_parameters, reset_df=True)\n",
    "\n",
    "end = timeit.default_timer()\n",
    "print(f\"Execution time: {end - start:.4f} seconds\")"
   ]
  },
  {
   "cell_type": "code",
   "execution_count": 1,
   "id": "3ef65485",
   "metadata": {},
   "outputs": [
    {
     "name": "stderr",
     "output_type": "stream",
     "text": [
      "/home/mmann1123/miniconda3/envs/xr_fresh/lib/python3.9/site-packages/tqdm/auto.py:21: TqdmWarning: IProgress not found. Please update jupyter and ipywidgets. See https://ipywidgets.readthedocs.io/en/stable/user_install.html\n",
      "  from .autonotebook import tqdm as notebook_tqdm\n"
     ]
    },
    {
     "name": "stdout",
     "output_type": "stream",
     "text": [
      "Jax is running on: gpu\n",
      "        date            file\n",
      "0 2005-01-01  tmx-200501.tif\n",
      "1 2005-02-01  tmx-200502.tif\n",
      "2 2005-03-01  tmx-200503.tif\n",
      "3 2006-01-01  tmx-200601.tif\n",
      "4 2006-02-01  tmx-200602.tif\n",
      "5 2006-03-01  tmx-200603.tif\n",
      "6 2007-01-01  tmx-200701.tif\n",
      "7 2007-02-01  tmx-200702.tif\n",
      "8 2007-03-01  tmx-200703.tif\n"
     ]
    },
    {
     "name": "stderr",
     "output_type": "stream",
     "text": [
      "100%|██████████| 6/6 [00:00<00:00, 34.56it/s]\n",
      "100%|██████████| 6/6 [00:00<00:00, 36.89it/s]\n",
      "100%|██████████| 6/6 [00:00<00:00, 36.47it/s]\n",
      "100%|██████████| 6/6 [00:00<00:00, 20.44it/s]\n",
      "100%|██████████| 6/6 [00:00<00:00, 947.04it/s]"
     ]
    },
    {
     "name": "stdout",
     "output_type": "stream",
     "text": [
      "Execution time: 1.5252 seconds\n"
     ]
    },
    {
     "name": "stderr",
     "output_type": "stream",
     "text": [
      "\n"
     ]
    }
   ],
   "source": [
    "import os\n",
    "from datetime import datetime\n",
    "import pandas as pd\n",
    "from glob import glob\n",
    "from xr_fresh.extractors_series import extract_features_series\n",
    "import tempfile\n",
    "from pathlib import Path\n",
    "import timeit\n",
    "\n",
    "temp_dir = Path(tempfile.mkdtemp())\n",
    "\n",
    "start2 = timeit.default_timer()\n",
    "\n",
    "\n",
    "# change working directory\n",
    "os.chdir(\"../xr_fresh/data/temperature\")\n",
    "\n",
    "band_name = \"tmx\"  # used to rename outputs\n",
    "file_glob = f\"tmx*tif\"\n",
    "strp_glob = f\"tmx-%Y%m.tif\"\n",
    "\n",
    "dates = sorted(\n",
    "    datetime.strptime(string, strp_glob) for string in sorted(glob(file_glob))\n",
    ")\n",
    "files = sorted(glob(file_glob))\n",
    "# print dates and files in a table\n",
    "print(pd.DataFrame({\"date\": dates, \"file\": files}))\n",
    "\n",
    "fc_parameters = {\n",
    "    \"mean\": [{}],\n",
    "    \"maximum\": [{}],\n",
    "    \"minimum\": [{}],\n",
    "    \"quantile\": [{\"q\": 0.15}, {\"q\": 0.95}],\n",
    "}\n",
    "\n",
    "\n",
    "# Extract features from the geospatial time series\n",
    "extract_features_series(files, fc_parameters, band_name, temp_dir)\n",
    "\n",
    "\n",
    "end2 = timeit.default_timer()\n",
    "print(f\"Execution time: {end2 - start2:.4f} seconds\")"
   ]
  },
  {
   "cell_type": "code",
   "execution_count": 15,
   "id": "f5163659",
   "metadata": {},
   "outputs": [
    {
     "name": "stdout",
     "output_type": "stream",
     "text": [
      "ts_raster execution time: 245.23\n",
      "xr_fresh execution time: 1.53\n",
      "Speedup: 160.79x\n"
     ]
    }
   ],
   "source": [
    "print(\"ts_raster execution time: 245.23\")\n",
    "print(f\"xr_fresh execution time: {end2 - start2:.2f}\")\n",
    "print(f\"Speedup: {245.2262 / (end2 - start2):.2f}x\")"
   ]
  },
  {
   "cell_type": "code",
   "execution_count": null,
   "id": "88bcce5c",
   "metadata": {},
   "outputs": [],
   "source": []
  }
 ],
 "metadata": {
  "kernelspec": {
   "display_name": "xr_fresh",
   "language": "python",
   "name": "python3"
  },
  "language_info": {
   "codemirror_mode": {
    "name": "ipython",
    "version": 3
   },
   "file_extension": ".py",
   "mimetype": "text/x-python",
   "name": "python",
   "nbconvert_exporter": "python",
   "pygments_lexer": "ipython3",
   "version": "3.9.16"
  }
 },
 "nbformat": 4,
 "nbformat_minor": 5
}
